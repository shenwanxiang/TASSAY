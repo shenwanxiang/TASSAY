{
 "cells": [
  {
   "cell_type": "code",
   "execution_count": 2,
   "metadata": {},
   "outputs": [
    {
     "name": "stdout",
     "output_type": "stream",
     "text": [
      "Running example itol and itolexport script\n",
      "\n",
      "Creating the upload params\n"
     ]
    }
   ],
   "source": [
    "\n",
    "import os\n",
    "import sys\n",
    "\n",
    "current_dir = './'\n",
    "root_path = os.path.join(current_dir, '..')\n",
    "sys.path.append(root_path)\n",
    "\n",
    "from itolapi import Itol, ItolExport  # NOQA\n",
    "\n",
    "print('Running example itol and itolexport script')\n",
    "print('')\n",
    "print('Creating the upload params')\n"
   ]
  },
  {
   "cell_type": "code",
   "execution_count": 3,
   "metadata": {},
   "outputs": [
    {
     "name": "stdout",
     "output_type": "stream",
     "text": [
      "Files:\n",
      "['./tree_of_life.tree.txt', './colors_tol.txt', './labels.txt', './ranges.txt']\n",
      "Parameters:\n",
      "{'projectName': '',\n",
      " 'treeDescription': '',\n",
      " 'treeName': 'Tree of Life Example',\n",
      " 'uploadID': ''}\n",
      "\n",
      "Uploading the tree.  This may take some time depending on how large the tree is and how much load there is on the itol server\n",
      "Tree ID: 1371321192258021591083969\n",
      "iTOL output: SUCCESS: 1371321192258021591083969\n",
      "\n",
      "Tree Web Page URL: http://itol.embl.de/external.cgi?tree=1371321192258021591083969&restore_saved=1\n",
      "Warnings: []\n"
     ]
    }
   ],
   "source": [
    "# Create the Itol class\n",
    "test = Itol()\n",
    "\n",
    "# Set the tree file\n",
    "tree = os.path.join(current_dir, 'tree_of_life.tree.txt')\n",
    "test.add_file(tree)\n",
    "test.add_file(os.path.join(current_dir, 'colors_tol.txt'))\n",
    "test.add_file(os.path.join(current_dir, 'labels.txt'))\n",
    "test.add_file(os.path.join(current_dir, 'ranges.txt'))\n",
    "# Add parameters\n",
    "test.params['treeName'] = 'Tree of Life Example'\n",
    "# Check parameters\n",
    "test.print_variables()\n",
    "# Submit the tree\n",
    "print('')\n",
    "print((\n",
    "    'Uploading the tree.  This may take some time depending on how large the '\n",
    "    'tree is and how much load there is on the itol server'\n",
    "))\n",
    "good_upload = test.upload()\n",
    "if not good_upload:\n",
    "    print('There was an error:' + test.comm.upload_output)\n",
    "    sys.exit(1)\n",
    "\n",
    "# Read the tree ID\n",
    "print('Tree ID: ' + str(test.comm.tree_id))\n",
    "\n",
    "# Read the iTOL API return statement\n",
    "print('iTOL output: ' + str(test.comm.upload_output))\n",
    "\n",
    "# Website to be redirected to iTOL tree\n",
    "print('Tree Web Page URL: ' + test.get_webpage())\n",
    "\n",
    "# Warnings associated with the upload\n",
    "print('Warnings: ' + str(test.comm.warnings))\n",
    "\n",
    "\n"
   ]
  },
  {
   "cell_type": "code",
   "execution_count": null,
   "metadata": {},
   "outputs": [],
   "source": []
  },
  {
   "cell_type": "code",
   "execution_count": 4,
   "metadata": {},
   "outputs": [
    {
     "name": "stdout",
     "output_type": "stream",
     "text": [
      "Exporting to pdf\n",
      "exported tree to  ./example_pdf.pdf\n"
     ]
    }
   ],
   "source": [
    "# Export a pre-made tree to pdf\n",
    "itol_exporter = ItolExport()\n",
    "itol_exporter.set_export_param_value('tree', '18793532031912684633930')\n",
    "itol_exporter.set_export_param_value('format', 'pdf')\n",
    "itol_exporter.set_export_param_value('datasetList', 'dataset1')\n",
    "# itol_exporter.export('example_pdf.pdf')\n",
    "# print('exported tree to ',export_location)\n",
    "\n",
    "# Export the tree above to pdf\n",
    "print('Exporting to pdf')\n",
    "itol_exporter = test.get_itol_export()\n",
    "export_location = os.path.join(current_dir, 'example_pdf.pdf')\n",
    "itol_exporter.set_export_param_value('format', 'pdf')\n",
    "itol_exporter.set_export_param_value('datasetList', 'dataset1')\n",
    "itol_exporter.export(export_location)\n",
    "print('exported tree to ', export_location)\n"
   ]
  },
  {
   "cell_type": "code",
   "execution_count": null,
   "metadata": {},
   "outputs": [],
   "source": []
  },
  {
   "cell_type": "code",
   "execution_count": null,
   "metadata": {},
   "outputs": [],
   "source": []
  },
  {
   "cell_type": "code",
   "execution_count": null,
   "metadata": {},
   "outputs": [],
   "source": []
  }
 ],
 "metadata": {
  "kernelspec": {
   "display_name": "Python 3",
   "language": "python",
   "name": "python3"
  },
  "language_info": {
   "codemirror_mode": {
    "name": "ipython",
    "version": 3
   },
   "file_extension": ".py",
   "mimetype": "text/x-python",
   "name": "python",
   "nbconvert_exporter": "python",
   "pygments_lexer": "ipython3",
   "version": "3.6.5"
  }
 },
 "nbformat": 4,
 "nbformat_minor": 4
}
