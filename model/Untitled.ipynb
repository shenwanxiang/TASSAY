{
 "cells": [
  {
   "cell_type": "code",
   "execution_count": 4,
   "metadata": {},
   "outputs": [],
   "source": [
    "import numpy as np\n",
    "import pandas as pd\n",
    "import statsmodels.api as sm\n"
   ]
  },
  {
   "cell_type": "code",
   "execution_count": 45,
   "metadata": {},
   "outputs": [],
   "source": [
    "df = pd.read_excel('single protein.xlsx')"
   ]
  },
  {
   "cell_type": "code",
   "execution_count": 46,
   "metadata": {},
   "outputs": [],
   "source": [
    "y = pd.get_dummies(df.type)\n",
    "y = y['Tumor']"
   ]
  },
  {
   "cell_type": "code",
   "execution_count": 47,
   "metadata": {},
   "outputs": [],
   "source": [
    "df = df[['Her2', 'ER', 'PR', 'SCRIB', 'WASF3']]\n",
    "\n",
    "#df['intercept'] = 1.0"
   ]
  },
  {
   "cell_type": "code",
   "execution_count": 48,
   "metadata": {},
   "outputs": [
    {
     "data": {
      "text/html": [
       "<div>\n",
       "<style scoped>\n",
       "    .dataframe tbody tr th:only-of-type {\n",
       "        vertical-align: middle;\n",
       "    }\n",
       "\n",
       "    .dataframe tbody tr th {\n",
       "        vertical-align: top;\n",
       "    }\n",
       "\n",
       "    .dataframe thead th {\n",
       "        text-align: right;\n",
       "    }\n",
       "</style>\n",
       "<table border=\"1\" class=\"dataframe\">\n",
       "  <thead>\n",
       "    <tr style=\"text-align: right;\">\n",
       "      <th></th>\n",
       "      <th>Her2</th>\n",
       "      <th>ER</th>\n",
       "      <th>PR</th>\n",
       "      <th>SCRIB</th>\n",
       "      <th>WASF3</th>\n",
       "    </tr>\n",
       "  </thead>\n",
       "  <tbody>\n",
       "    <tr>\n",
       "      <td>0</td>\n",
       "      <td>1.495</td>\n",
       "      <td>1.643</td>\n",
       "      <td>1.217</td>\n",
       "      <td>1.245628</td>\n",
       "      <td>1.056299</td>\n",
       "    </tr>\n",
       "    <tr>\n",
       "      <td>1</td>\n",
       "      <td>2.345</td>\n",
       "      <td>1.200</td>\n",
       "      <td>1.463</td>\n",
       "      <td>1.591088</td>\n",
       "      <td>1.261088</td>\n",
       "    </tr>\n",
       "    <tr>\n",
       "      <td>2</td>\n",
       "      <td>2.972</td>\n",
       "      <td>4.752</td>\n",
       "      <td>1.305</td>\n",
       "      <td>4.890120</td>\n",
       "      <td>2.726646</td>\n",
       "    </tr>\n",
       "    <tr>\n",
       "      <td>3</td>\n",
       "      <td>2.551</td>\n",
       "      <td>1.736</td>\n",
       "      <td>1.110</td>\n",
       "      <td>1.783900</td>\n",
       "      <td>0.878547</td>\n",
       "    </tr>\n",
       "    <tr>\n",
       "      <td>4</td>\n",
       "      <td>2.808</td>\n",
       "      <td>1.901</td>\n",
       "      <td>1.270</td>\n",
       "      <td>1.185551</td>\n",
       "      <td>1.091645</td>\n",
       "    </tr>\n",
       "    <tr>\n",
       "      <td>5</td>\n",
       "      <td>3.356</td>\n",
       "      <td>1.904</td>\n",
       "      <td>1.551</td>\n",
       "      <td>1.565114</td>\n",
       "      <td>1.600193</td>\n",
       "    </tr>\n",
       "    <tr>\n",
       "      <td>6</td>\n",
       "      <td>3.855</td>\n",
       "      <td>1.642</td>\n",
       "      <td>1.696</td>\n",
       "      <td>1.343960</td>\n",
       "      <td>1.062211</td>\n",
       "    </tr>\n",
       "    <tr>\n",
       "      <td>7</td>\n",
       "      <td>1.211</td>\n",
       "      <td>0.532</td>\n",
       "      <td>1.724</td>\n",
       "      <td>1.310195</td>\n",
       "      <td>1.023109</td>\n",
       "    </tr>\n",
       "    <tr>\n",
       "      <td>8</td>\n",
       "      <td>0.720</td>\n",
       "      <td>1.094</td>\n",
       "      <td>0.546</td>\n",
       "      <td>1.292902</td>\n",
       "      <td>1.299881</td>\n",
       "    </tr>\n",
       "    <tr>\n",
       "      <td>9</td>\n",
       "      <td>0.962</td>\n",
       "      <td>1.867</td>\n",
       "      <td>0.584</td>\n",
       "      <td>2.266032</td>\n",
       "      <td>2.168214</td>\n",
       "    </tr>\n",
       "    <tr>\n",
       "      <td>10</td>\n",
       "      <td>1.498</td>\n",
       "      <td>1.287</td>\n",
       "      <td>1.469</td>\n",
       "      <td>1.021016</td>\n",
       "      <td>1.237091</td>\n",
       "    </tr>\n",
       "    <tr>\n",
       "      <td>11</td>\n",
       "      <td>1.438</td>\n",
       "      <td>1.560</td>\n",
       "      <td>1.911</td>\n",
       "      <td>1.911127</td>\n",
       "      <td>1.094447</td>\n",
       "    </tr>\n",
       "    <tr>\n",
       "      <td>12</td>\n",
       "      <td>1.045</td>\n",
       "      <td>1.416</td>\n",
       "      <td>0.914</td>\n",
       "      <td>1.442570</td>\n",
       "      <td>1.214936</td>\n",
       "    </tr>\n",
       "    <tr>\n",
       "      <td>13</td>\n",
       "      <td>1.272</td>\n",
       "      <td>1.524</td>\n",
       "      <td>1.348</td>\n",
       "      <td>1.121469</td>\n",
       "      <td>1.585660</td>\n",
       "    </tr>\n",
       "    <tr>\n",
       "      <td>14</td>\n",
       "      <td>1.591</td>\n",
       "      <td>1.732</td>\n",
       "      <td>1.017</td>\n",
       "      <td>1.369239</td>\n",
       "      <td>1.071802</td>\n",
       "    </tr>\n",
       "    <tr>\n",
       "      <td>15</td>\n",
       "      <td>1.141</td>\n",
       "      <td>1.031</td>\n",
       "      <td>0.858</td>\n",
       "      <td>1.969142</td>\n",
       "      <td>1.613960</td>\n",
       "    </tr>\n",
       "  </tbody>\n",
       "</table>\n",
       "</div>"
      ],
      "text/plain": [
       "     Her2     ER     PR     SCRIB     WASF3\n",
       "0   1.495  1.643  1.217  1.245628  1.056299\n",
       "1   2.345  1.200  1.463  1.591088  1.261088\n",
       "2   2.972  4.752  1.305  4.890120  2.726646\n",
       "3   2.551  1.736  1.110  1.783900  0.878547\n",
       "4   2.808  1.901  1.270  1.185551  1.091645\n",
       "5   3.356  1.904  1.551  1.565114  1.600193\n",
       "6   3.855  1.642  1.696  1.343960  1.062211\n",
       "7   1.211  0.532  1.724  1.310195  1.023109\n",
       "8   0.720  1.094  0.546  1.292902  1.299881\n",
       "9   0.962  1.867  0.584  2.266032  2.168214\n",
       "10  1.498  1.287  1.469  1.021016  1.237091\n",
       "11  1.438  1.560  1.911  1.911127  1.094447\n",
       "12  1.045  1.416  0.914  1.442570  1.214936\n",
       "13  1.272  1.524  1.348  1.121469  1.585660\n",
       "14  1.591  1.732  1.017  1.369239  1.071802\n",
       "15  1.141  1.031  0.858  1.969142  1.613960"
      ]
     },
     "execution_count": 48,
     "metadata": {},
     "output_type": "execute_result"
    }
   ],
   "source": [
    "df"
   ]
  },
  {
   "cell_type": "code",
   "execution_count": 49,
   "metadata": {},
   "outputs": [],
   "source": [
    "logit = sm.(y, df)"
   ]
  },
  {
   "cell_type": "code",
   "execution_count": 50,
   "metadata": {},
   "outputs": [
    {
     "name": "stdout",
     "output_type": "stream",
     "text": [
      "Optimization terminated successfully.\n",
      "         Current function value: 0.451950\n",
      "         Iterations 7\n"
     ]
    }
   ],
   "source": [
    "res = logit.fit()"
   ]
  },
  {
   "cell_type": "code",
   "execution_count": 51,
   "metadata": {},
   "outputs": [
    {
     "name": "stdout",
     "output_type": "stream",
     "text": [
      "                          MNLogit Regression Results                          \n",
      "==============================================================================\n",
      "Dep. Variable:                  Tumor   No. Observations:                   16\n",
      "Model:                        MNLogit   Df Residuals:                       11\n",
      "Method:                           MLE   Df Model:                            4\n",
      "Date:                Thu, 22 Oct 2020   Pseudo R-squ.:                  0.3168\n",
      "Time:                        23:39:30   Log-Likelihood:                -7.2312\n",
      "converged:                       True   LL-Null:                       -10.585\n",
      "Covariance Type:            nonrobust   LLR p-value:                    0.1522\n",
      "==============================================================================\n",
      "   Tumor=1       coef    std err          z      P>|z|      [0.025      0.975]\n",
      "------------------------------------------------------------------------------\n",
      "Her2           2.8364      1.790      1.585      0.113      -0.671       6.344\n",
      "ER            -1.8258      1.930     -0.946      0.344      -5.608       1.957\n",
      "PR            -2.5960      1.600     -1.622      0.105      -5.732       0.540\n",
      "SCRIB          1.3965      1.883      0.742      0.458      -2.295       5.088\n",
      "WASF3         -0.2894      1.922     -0.151      0.880      -4.056       3.478\n",
      "==============================================================================\n"
     ]
    }
   ],
   "source": [
    "print(res.summary())"
   ]
  },
  {
   "cell_type": "code",
   "execution_count": 52,
   "metadata": {},
   "outputs": [
    {
     "name": "stdout",
     "output_type": "stream",
     "text": [
      "                       Results: MNLogit\n",
      "==============================================================\n",
      "Model:              MNLogit          Pseudo R-squared: 0.317  \n",
      "Dependent Variable: Tumor            AIC:              24.4624\n",
      "Date:               2020-10-22 23:39 BIC:              28.3253\n",
      "No. Observations:   16               Log-Likelihood:   -7.2312\n",
      "Df Model:           4                LL-Null:          -10.585\n",
      "Df Residuals:       11               LLR p-value:      0.15217\n",
      "Converged:          1.0000           Scale:            1.0000 \n",
      "No. Iterations:     7.0000                                    \n",
      "--------------------------------------------------------------\n",
      "Tumor = 0   Coef.   Std.Err.     t     P>|t|    [0.025  0.975]\n",
      "--------------------------------------------------------------\n",
      "     Her2   2.8364    1.7896   1.5849  0.1130  -0.6712  6.3439\n",
      "       ER  -1.8258    1.9299  -0.9460  0.3441  -5.6083  1.9568\n",
      "       PR  -2.5960    1.6001  -1.6224  0.1047  -5.7321  0.5401\n",
      "    SCRIB   1.3965    1.8833   0.7415  0.4584  -2.2947  5.0877\n",
      "    WASF3  -0.2894    1.9220  -0.1506  0.8803  -4.0564  3.4776\n",
      "==============================================================\n",
      "\n"
     ]
    }
   ],
   "source": [
    "print(res.summary2())"
   ]
  },
  {
   "cell_type": "code",
   "execution_count": 53,
   "metadata": {},
   "outputs": [],
   "source": [
    "A = np.identity(len(res.params))\n",
    "A = A[1:,:]\n",
    "f = res.f_test(A)"
   ]
  },
  {
   "cell_type": "code",
   "execution_count": 54,
   "metadata": {},
   "outputs": [
    {
     "data": {
      "text/plain": [
       "array(0.55770911)"
      ]
     },
     "execution_count": 54,
     "metadata": {},
     "output_type": "execute_result"
    }
   ],
   "source": [
    "f.pvalue"
   ]
  },
  {
   "cell_type": "code",
   "execution_count": 55,
   "metadata": {},
   "outputs": [
    {
     "data": {
      "text/html": [
       "<div>\n",
       "<style scoped>\n",
       "    .dataframe tbody tr th:only-of-type {\n",
       "        vertical-align: middle;\n",
       "    }\n",
       "\n",
       "    .dataframe tbody tr th {\n",
       "        vertical-align: top;\n",
       "    }\n",
       "\n",
       "    .dataframe thead th {\n",
       "        text-align: right;\n",
       "    }\n",
       "</style>\n",
       "<table border=\"1\" class=\"dataframe\">\n",
       "  <thead>\n",
       "    <tr style=\"text-align: right;\">\n",
       "      <th></th>\n",
       "      <th>0</th>\n",
       "    </tr>\n",
       "  </thead>\n",
       "  <tbody>\n",
       "    <tr>\n",
       "      <td>Her2</td>\n",
       "      <td>0.112982</td>\n",
       "    </tr>\n",
       "    <tr>\n",
       "      <td>ER</td>\n",
       "      <td>0.344124</td>\n",
       "    </tr>\n",
       "    <tr>\n",
       "      <td>PR</td>\n",
       "      <td>0.104718</td>\n",
       "    </tr>\n",
       "    <tr>\n",
       "      <td>SCRIB</td>\n",
       "      <td>0.458385</td>\n",
       "    </tr>\n",
       "    <tr>\n",
       "      <td>WASF3</td>\n",
       "      <td>0.880306</td>\n",
       "    </tr>\n",
       "  </tbody>\n",
       "</table>\n",
       "</div>"
      ],
      "text/plain": [
       "              0\n",
       "Her2   0.112982\n",
       "ER     0.344124\n",
       "PR     0.104718\n",
       "SCRIB  0.458385\n",
       "WASF3  0.880306"
      ]
     },
     "execution_count": 55,
     "metadata": {},
     "output_type": "execute_result"
    }
   ],
   "source": [
    "res.pvalues"
   ]
  },
  {
   "cell_type": "code",
   "execution_count": 56,
   "metadata": {},
   "outputs": [
    {
     "data": {
      "text/html": [
       "<div>\n",
       "<style scoped>\n",
       "    .dataframe tbody tr th:only-of-type {\n",
       "        vertical-align: middle;\n",
       "    }\n",
       "\n",
       "    .dataframe tbody tr th {\n",
       "        vertical-align: top;\n",
       "    }\n",
       "\n",
       "    .dataframe thead th {\n",
       "        text-align: right;\n",
       "    }\n",
       "</style>\n",
       "<table border=\"1\" class=\"dataframe\">\n",
       "  <thead>\n",
       "    <tr style=\"text-align: right;\">\n",
       "      <th></th>\n",
       "      <th>0</th>\n",
       "      <th>1</th>\n",
       "    </tr>\n",
       "  </thead>\n",
       "  <tbody>\n",
       "    <tr>\n",
       "      <td>0</td>\n",
       "      <td>0.618911</td>\n",
       "      <td>0.381089</td>\n",
       "    </tr>\n",
       "    <tr>\n",
       "      <td>1</td>\n",
       "      <td>0.074512</td>\n",
       "      <td>0.925488</td>\n",
       "    </tr>\n",
       "    <tr>\n",
       "      <td>2</td>\n",
       "      <td>0.082746</td>\n",
       "      <td>0.917254</td>\n",
       "    </tr>\n",
       "    <tr>\n",
       "      <td>3</td>\n",
       "      <td>0.031634</td>\n",
       "      <td>0.968366</td>\n",
       "    </tr>\n",
       "    <tr>\n",
       "      <td>4</td>\n",
       "      <td>0.073341</td>\n",
       "      <td>0.926659</td>\n",
       "    </tr>\n",
       "    <tr>\n",
       "      <td>5</td>\n",
       "      <td>0.023232</td>\n",
       "      <td>0.976768</td>\n",
       "    </tr>\n",
       "    <tr>\n",
       "      <td>6</td>\n",
       "      <td>0.006043</td>\n",
       "      <td>0.993957</td>\n",
       "    </tr>\n",
       "    <tr>\n",
       "      <td>7</td>\n",
       "      <td>0.617371</td>\n",
       "      <td>0.382629</td>\n",
       "    </tr>\n",
       "    <tr>\n",
       "      <td>8</td>\n",
       "      <td>0.485836</td>\n",
       "      <td>0.514164</td>\n",
       "    </tr>\n",
       "    <tr>\n",
       "      <td>9</td>\n",
       "      <td>0.415629</td>\n",
       "      <td>0.584371</td>\n",
       "    </tr>\n",
       "    <tr>\n",
       "      <td>10</td>\n",
       "      <td>0.699858</td>\n",
       "      <td>0.300142</td>\n",
       "    </tr>\n",
       "    <tr>\n",
       "      <td>11</td>\n",
       "      <td>0.798729</td>\n",
       "      <td>0.201271</td>\n",
       "    </tr>\n",
       "    <tr>\n",
       "      <td>12</td>\n",
       "      <td>0.582038</td>\n",
       "      <td>0.417962</td>\n",
       "    </tr>\n",
       "    <tr>\n",
       "      <td>13</td>\n",
       "      <td>0.827332</td>\n",
       "      <td>0.172668</td>\n",
       "    </tr>\n",
       "    <tr>\n",
       "      <td>14</td>\n",
       "      <td>0.422578</td>\n",
       "      <td>0.577422</td>\n",
       "    </tr>\n",
       "    <tr>\n",
       "      <td>15</td>\n",
       "      <td>0.196342</td>\n",
       "      <td>0.803658</td>\n",
       "    </tr>\n",
       "  </tbody>\n",
       "</table>\n",
       "</div>"
      ],
      "text/plain": [
       "           0         1\n",
       "0   0.618911  0.381089\n",
       "1   0.074512  0.925488\n",
       "2   0.082746  0.917254\n",
       "3   0.031634  0.968366\n",
       "4   0.073341  0.926659\n",
       "5   0.023232  0.976768\n",
       "6   0.006043  0.993957\n",
       "7   0.617371  0.382629\n",
       "8   0.485836  0.514164\n",
       "9   0.415629  0.584371\n",
       "10  0.699858  0.300142\n",
       "11  0.798729  0.201271\n",
       "12  0.582038  0.417962\n",
       "13  0.827332  0.172668\n",
       "14  0.422578  0.577422\n",
       "15  0.196342  0.803658"
      ]
     },
     "execution_count": 56,
     "metadata": {},
     "output_type": "execute_result"
    }
   ],
   "source": [
    "res.predict(df)"
   ]
  },
  {
   "cell_type": "code",
   "execution_count": null,
   "metadata": {},
   "outputs": [],
   "source": []
  },
  {
   "cell_type": "code",
   "execution_count": null,
   "metadata": {},
   "outputs": [],
   "source": []
  }
 ],
 "metadata": {
  "kernelspec": {
   "display_name": "Python 3",
   "language": "python",
   "name": "python3"
  },
  "language_info": {
   "codemirror_mode": {
    "name": "ipython",
    "version": 3
   },
   "file_extension": ".py",
   "mimetype": "text/x-python",
   "name": "python",
   "nbconvert_exporter": "python",
   "pygments_lexer": "ipython3",
   "version": "3.6.10"
  }
 },
 "nbformat": 4,
 "nbformat_minor": 4
}
