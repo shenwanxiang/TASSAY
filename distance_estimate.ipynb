{
 "cells": [
  {
   "cell_type": "code",
   "execution_count": 65,
   "metadata": {},
   "outputs": [],
   "source": [
    "import numpy as np\n",
    "import pandas as pd"
   ]
  },
  {
   "cell_type": "code",
   "execution_count": 66,
   "metadata": {},
   "outputs": [],
   "source": [
    "# define the fucntion for the perimeter calculation\n",
    "\n",
    "a = 5.6 #center ball radius\n",
    "b = 7 #edge ball diameter\n",
    "\n",
    "l = lambda x:2*np.pi*(a + b*x) # x is number of the lap\n",
    "\n",
    "df = pd.DataFrame(index = range(100))\n",
    "df.index.name = 'laps'\n",
    "df = df.reset_index()\n",
    "df['perimeters'] = df.laps.apply(l)\n",
    "df['diameter'] = df['perimeters']/np.pi\n",
    "\n",
    "df['perimeters_shift'] = df.perimeters.shift(1)\n",
    "df['mid_perimeters'] = (df['perimeters'] + df['perimeters_shift'])/2\n",
    "df['num_edge_balls'] = np.floor(df.mid_perimeters/b)\n",
    "\n",
    "df['cumsum_num_edge_balls'] = df.num_edge_balls.cumsum()\n",
    "df['cumsum_diameter'] = df.diameter.cumsum()"
   ]
  },
  {
   "cell_type": "code",
   "execution_count": 67,
   "metadata": {},
   "outputs": [],
   "source": [
    "df.to_excel('./estimated_dist.xlsx')"
   ]
  },
  {
   "cell_type": "code",
   "execution_count": null,
   "metadata": {},
   "outputs": [],
   "source": []
  },
  {
   "cell_type": "code",
   "execution_count": null,
   "metadata": {},
   "outputs": [],
   "source": []
  }
 ],
 "metadata": {
  "kernelspec": {
   "display_name": "Python 3",
   "language": "python",
   "name": "python3"
  },
  "language_info": {
   "codemirror_mode": {
    "name": "ipython",
    "version": 3
   },
   "file_extension": ".py",
   "mimetype": "text/x-python",
   "name": "python",
   "nbconvert_exporter": "python",
   "pygments_lexer": "ipython3",
   "version": "3.6.5"
  }
 },
 "nbformat": 4,
 "nbformat_minor": 4
}
