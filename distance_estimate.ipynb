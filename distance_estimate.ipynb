{
 "cells": [
  {
   "cell_type": "code",
   "execution_count": 3,
   "metadata": {},
   "outputs": [],
   "source": [
    "import numpy as np\n",
    "import pandas as pd"
   ]
  },
  {
   "cell_type": "code",
   "execution_count": null,
   "metadata": {},
   "outputs": [],
   "source": []
  },
  {
   "cell_type": "code",
   "execution_count": 41,
   "metadata": {},
   "outputs": [],
   "source": []
  },
  {
   "cell_type": "code",
   "execution_count": 55,
   "metadata": {},
   "outputs": [],
   "source": [
    "# define the fucntion for the perimeter calculation\n",
    "\n",
    "a = 5.6 #center ball radius\n",
    "b = 7 #edge ball diameter\n",
    "\n",
    "l = lambda x:2*np.pi*(a + b*x) # x is number of the lap\n",
    "\n",
    "df = pd.DataFrame(index = range(100))\n",
    "df.index.name = 'laps'\n",
    "df = df.reset_index()\n",
    "df['perimeters'] = df.laps.apply(l)\n",
    "df['diameter'] = df['perimeters']/np.pi\n",
    "\n",
    "df['perimeters_shift'] = df.perimeters.shift(1)\n",
    "df['mid_perimeters'] = (df['perimeters'] + df['perimeters_shift'])/2\n",
    "df['num_edge_balls'] = np.floor(df.mid_perimeters/b)\n",
    "\n",
    "df['cumsum_num_edge_balls'] = df.num_edge_balls.cumsum()\n",
    "df['cumsum_diameter'] = df.diameter.cumsum()"
   ]
  },
  {
   "cell_type": "code",
   "execution_count": 63,
   "metadata": {},
   "outputs": [
    {
     "data": {
      "text/html": [
       "<div>\n",
       "<style scoped>\n",
       "    .dataframe tbody tr th:only-of-type {\n",
       "        vertical-align: middle;\n",
       "    }\n",
       "\n",
       "    .dataframe tbody tr th {\n",
       "        vertical-align: top;\n",
       "    }\n",
       "\n",
       "    .dataframe thead th {\n",
       "        text-align: right;\n",
       "    }\n",
       "</style>\n",
       "<table border=\"1\" class=\"dataframe\">\n",
       "  <thead>\n",
       "    <tr style=\"text-align: right;\">\n",
       "      <th></th>\n",
       "      <th>laps</th>\n",
       "      <th>perimeters</th>\n",
       "      <th>diameter</th>\n",
       "      <th>perimeters_shift</th>\n",
       "      <th>mid_perimeters</th>\n",
       "      <th>num_edge_balls</th>\n",
       "      <th>cumsum_num_edge_balls</th>\n",
       "      <th>cumsum_diameter</th>\n",
       "    </tr>\n",
       "  </thead>\n",
       "  <tbody>\n",
       "    <tr>\n",
       "      <td>1</td>\n",
       "      <td>1</td>\n",
       "      <td>79.168135</td>\n",
       "      <td>25.2</td>\n",
       "      <td>35.185838</td>\n",
       "      <td>57.176986</td>\n",
       "      <td>8.0</td>\n",
       "      <td>8.0</td>\n",
       "      <td>36.4</td>\n",
       "    </tr>\n",
       "    <tr>\n",
       "      <td>2</td>\n",
       "      <td>2</td>\n",
       "      <td>123.150432</td>\n",
       "      <td>39.2</td>\n",
       "      <td>79.168135</td>\n",
       "      <td>101.159283</td>\n",
       "      <td>14.0</td>\n",
       "      <td>22.0</td>\n",
       "      <td>75.6</td>\n",
       "    </tr>\n",
       "    <tr>\n",
       "      <td>3</td>\n",
       "      <td>3</td>\n",
       "      <td>167.132729</td>\n",
       "      <td>53.2</td>\n",
       "      <td>123.150432</td>\n",
       "      <td>145.141581</td>\n",
       "      <td>20.0</td>\n",
       "      <td>42.0</td>\n",
       "      <td>128.8</td>\n",
       "    </tr>\n",
       "    <tr>\n",
       "      <td>4</td>\n",
       "      <td>4</td>\n",
       "      <td>211.115026</td>\n",
       "      <td>67.2</td>\n",
       "      <td>167.132729</td>\n",
       "      <td>189.123878</td>\n",
       "      <td>27.0</td>\n",
       "      <td>69.0</td>\n",
       "      <td>196.0</td>\n",
       "    </tr>\n",
       "    <tr>\n",
       "      <td>5</td>\n",
       "      <td>5</td>\n",
       "      <td>255.097323</td>\n",
       "      <td>81.2</td>\n",
       "      <td>211.115026</td>\n",
       "      <td>233.106175</td>\n",
       "      <td>33.0</td>\n",
       "      <td>102.0</td>\n",
       "      <td>277.2</td>\n",
       "    </tr>\n",
       "    <tr>\n",
       "      <td>6</td>\n",
       "      <td>6</td>\n",
       "      <td>299.079621</td>\n",
       "      <td>95.2</td>\n",
       "      <td>255.097323</td>\n",
       "      <td>277.088472</td>\n",
       "      <td>39.0</td>\n",
       "      <td>141.0</td>\n",
       "      <td>372.4</td>\n",
       "    </tr>\n",
       "  </tbody>\n",
       "</table>\n",
       "</div>"
      ],
      "text/plain": [
       "   laps  perimeters  diameter  perimeters_shift  mid_perimeters  \\\n",
       "1     1   79.168135      25.2         35.185838       57.176986   \n",
       "2     2  123.150432      39.2         79.168135      101.159283   \n",
       "3     3  167.132729      53.2        123.150432      145.141581   \n",
       "4     4  211.115026      67.2        167.132729      189.123878   \n",
       "5     5  255.097323      81.2        211.115026      233.106175   \n",
       "6     6  299.079621      95.2        255.097323      277.088472   \n",
       "\n",
       "   num_edge_balls  cumsum_num_edge_balls  cumsum_diameter  \n",
       "1             8.0                    8.0             36.4  \n",
       "2            14.0                   22.0             75.6  \n",
       "3            20.0                   42.0            128.8  \n",
       "4            27.0                   69.0            196.0  \n",
       "5            33.0                  102.0            277.2  \n",
       "6            39.0                  141.0            372.4  "
      ]
     },
     "execution_count": 63,
     "metadata": {},
     "output_type": "execute_result"
    }
   ],
   "source": [
    "df[df.cumsum_num_edge_balls <= 142]"
   ]
  },
  {
   "cell_type": "code",
   "execution_count": 64,
   "metadata": {},
   "outputs": [
    {
     "data": {
      "text/plain": [
       "(1209.6, 744.8)"
      ]
     },
     "execution_count": 64,
     "metadata": {},
     "output_type": "execute_result"
    }
   ],
   "source": [
    "604.8*2, 372.4*2"
   ]
  },
  {
   "cell_type": "code",
   "execution_count": 47,
   "metadata": {},
   "outputs": [],
   "source": []
  },
  {
   "cell_type": "code",
   "execution_count": 50,
   "metadata": {},
   "outputs": [
    {
     "data": {
      "text/plain": [
       "0         NaN\n",
       "1         8.0\n",
       "2        22.0\n",
       "3        42.0\n",
       "4        69.0\n",
       "       ...   \n",
       "95    28782.0\n",
       "96    29387.0\n",
       "97    29998.0\n",
       "98    30615.0\n",
       "99    31238.0\n",
       "Name: num_edge_balls, Length: 100, dtype: float64"
      ]
     },
     "execution_count": 50,
     "metadata": {},
     "output_type": "execute_result"
    }
   ],
   "source": []
  },
  {
   "cell_type": "code",
   "execution_count": null,
   "metadata": {},
   "outputs": [],
   "source": []
  },
  {
   "cell_type": "code",
   "execution_count": null,
   "metadata": {},
   "outputs": [],
   "source": [
    "def estimate_dist(center_ball_r = 5.6, edge_ball_r = 3.5, total_edge_balls = 18):\n",
    "    \n",
    "    edge_ball_d = edge_ball_r*2\n",
    "    \n",
    "    \n",
    "    l = 2*np.pi*center_ball_r\n",
    "    \n",
    "    \n",
    "    \n",
    "    \n",
    "    \n",
    "    \n",
    "    \n",
    "    \n",
    "    \n",
    "    \n",
    "    \n",
    "    \n",
    "    \n",
    "    \n",
    "    \n",
    "    \n",
    "    "
   ]
  },
  {
   "cell_type": "code",
   "execution_count": null,
   "metadata": {},
   "outputs": [],
   "source": []
  },
  {
   "cell_type": "code",
   "execution_count": null,
   "metadata": {},
   "outputs": [],
   "source": []
  }
 ],
 "metadata": {
  "kernelspec": {
   "display_name": "Python 3",
   "language": "python",
   "name": "python3"
  },
  "language_info": {
   "codemirror_mode": {
    "name": "ipython",
    "version": 3
   },
   "file_extension": ".py",
   "mimetype": "text/x-python",
   "name": "python",
   "nbconvert_exporter": "python",
   "pygments_lexer": "ipython3",
   "version": "3.6.5"
  }
 },
 "nbformat": 4,
 "nbformat_minor": 4
}
