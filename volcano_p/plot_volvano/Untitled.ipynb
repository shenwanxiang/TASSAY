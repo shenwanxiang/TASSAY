{
 "cells": [
  {
   "cell_type": "code",
   "execution_count": 1,
   "metadata": {},
   "outputs": [],
   "source": [
    "import pandas as pd\n",
    "import numpy as np\n"
   ]
  },
  {
   "cell_type": "code",
   "execution_count": 2,
   "metadata": {},
   "outputs": [],
   "source": [
    "def from_mean_std_get_samples(desired_mean, desired_std_dev, num_samples):\n",
    "    np.random.seed(123)\n",
    "    samples = np.random.normal(loc=0.0, scale=desired_std_dev, size=num_samples)\n",
    "    actual_mean = np.mean(samples)\n",
    "    actual_std = np.std(samples)\n",
    "\n",
    "    zero_mean_samples = samples - (actual_mean)\n",
    "    zero_mean_mean = np.mean(zero_mean_samples)\n",
    "    zero_mean_std = np.std(zero_mean_samples)\n",
    "\n",
    "    scaled_samples = zero_mean_samples * (desired_std_dev/zero_mean_std)\n",
    "    scaled_mean = np.mean(scaled_samples)\n",
    "    scaled_std = np.std(scaled_samples)\n",
    "\n",
    "    final_samples = scaled_samples + desired_mean\n",
    "    final_mean = np.mean(final_samples)\n",
    "    final_std = np.std(final_samples)\n",
    "    return final_samples"
   ]
  },
  {
   "cell_type": "code",
   "execution_count": 4,
   "metadata": {},
   "outputs": [
    {
     "data": {
      "text/plain": [
       "10.0"
      ]
     },
     "execution_count": 4,
     "metadata": {},
     "output_type": "execute_result"
    }
   ],
   "source": [
    "from_mean_std_get_samples(10, 1, 3)"
   ]
  },
  {
   "cell_type": "code",
   "execution_count": null,
   "metadata": {},
   "outputs": [],
   "source": []
  },
  {
   "cell_type": "code",
   "execution_count": null,
   "metadata": {},
   "outputs": [],
   "source": []
  },
  {
   "cell_type": "code",
   "execution_count": 69,
   "metadata": {},
   "outputs": [
    {
     "name": "stderr",
     "output_type": "stream",
     "text": [
      "/home/shenwanxiang/anaconda3/envs/tf2/lib/python3.6/site-packages/ipykernel_launcher.py:11: RuntimeWarning: invalid value encountered in double_scalars\n",
      "  # This is added back by InteractiveShellApp.init_path()\n"
     ]
    }
   ],
   "source": [
    "def _apply_c(ts):\n",
    "    c = from_mean_std_get_samples(ts.cancer_mean, ts.cancer_std, 3)\n",
    "    return c\n",
    "\n",
    "def _apply_n(ts):\n",
    "    n = from_mean_std_get_samples(ts.normal_mean, ts.normal_std, 3)\n",
    "    return n\n",
    "\n",
    "for i in [2,3,4,5]:\n",
    "    \n",
    "    mer =  '%s-mer' % i\n",
    "\n",
    "\n",
    "    df = pd.read_excel('./volcano_rawdata.xlsx', index_col = 0, sheet_name = mer)\n",
    "\n",
    "\n",
    "    c = df.apply(_apply_c, axis=1).apply(pd.Series)\n",
    "    c.columns = ['cancer-1', 'cancer-2','cancer-3']\n",
    "    n = df.apply(_apply_n, axis=1).apply(pd.Series)\n",
    "    n.columns = ['normal-1', 'normal-2','normal-3']\n",
    "    c.join(n).fillna(0).to_excel('./%s.xlsx' % mer)"
   ]
  },
  {
   "cell_type": "code",
   "execution_count": null,
   "metadata": {},
   "outputs": [],
   "source": []
  },
  {
   "cell_type": "code",
   "execution_count": 46,
   "metadata": {},
   "outputs": [],
   "source": []
  },
  {
   "cell_type": "code",
   "execution_count": null,
   "metadata": {},
   "outputs": [],
   "source": []
  },
  {
   "cell_type": "code",
   "execution_count": null,
   "metadata": {},
   "outputs": [],
   "source": []
  },
  {
   "cell_type": "code",
   "execution_count": null,
   "metadata": {},
   "outputs": [],
   "source": []
  },
  {
   "cell_type": "code",
   "execution_count": null,
   "metadata": {},
   "outputs": [],
   "source": []
  },
  {
   "cell_type": "code",
   "execution_count": null,
   "metadata": {},
   "outputs": [],
   "source": []
  },
  {
   "cell_type": "code",
   "execution_count": null,
   "metadata": {},
   "outputs": [],
   "source": []
  }
 ],
 "metadata": {
  "kernelspec": {
   "display_name": "Python 3",
   "language": "python",
   "name": "python3"
  },
  "language_info": {
   "codemirror_mode": {
    "name": "ipython",
    "version": 3
   },
   "file_extension": ".py",
   "mimetype": "text/x-python",
   "name": "python",
   "nbconvert_exporter": "python",
   "pygments_lexer": "ipython3",
   "version": "3.6.10"
  }
 },
 "nbformat": 4,
 "nbformat_minor": 4
}
