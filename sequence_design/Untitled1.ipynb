{
 "cells": [
  {
   "cell_type": "code",
   "execution_count": 1,
   "metadata": {},
   "outputs": [],
   "source": [
    "from Bio.Seq import Seq\n",
    "from Bio.SeqUtils import MeltingTemp\n",
    "from Bio.SeqUtils import lcc, GC\n",
    "from Bio import pairwise2\n",
    "from Bio.pairwise2 import format_alignment\n",
    "from Bio import SeqIO,SeqRecord\n",
    "from Bio.Alphabet import IUPAC\n",
    "\n",
    "from sklearn.utils import shuffle\n",
    "from joblib import dump, load\n",
    "import numpy as np\n",
    "import pandas as pd\n",
    "from tqdm import tqdm\n",
    "tqdm.pandas(ascii=True)\n",
    "%matplotlib inline"
   ]
  },
  {
   "cell_type": "code",
   "execution_count": 19,
   "metadata": {},
   "outputs": [],
   "source": [
    "products = load('./data/0009_31.757.prod')"
   ]
  },
  {
   "cell_type": "code",
   "execution_count": 20,
   "metadata": {},
   "outputs": [],
   "source": []
  },
  {
   "cell_type": "code",
   "execution_count": 21,
   "metadata": {},
   "outputs": [
    {
     "name": "stderr",
     "output_type": "stream",
     "text": [
      "100%|##########| 21/21 [00:00<00:00, 2505.34it/s]\n"
     ]
    }
   ],
   "source": []
  },
  {
   "cell_type": "code",
   "execution_count": 22,
   "metadata": {},
   "outputs": [
    {
     "name": "stderr",
     "output_type": "stream",
     "text": [
      "100%|##########| 21/21 [00:00<00:00, 2051.63it/s]\n"
     ]
    }
   ],
   "source": []
  },
  {
   "cell_type": "code",
   "execution_count": 23,
   "metadata": {},
   "outputs": [],
   "source": [
    "df.to_excel('./ssDNAs.xlsx')"
   ]
  },
  {
   "cell_type": "code",
   "execution_count": 24,
   "metadata": {},
   "outputs": [
    {
     "data": {
      "text/html": [
       "<div>\n",
       "<style scoped>\n",
       "    .dataframe tbody tr th:only-of-type {\n",
       "        vertical-align: middle;\n",
       "    }\n",
       "\n",
       "    .dataframe tbody tr th {\n",
       "        vertical-align: top;\n",
       "    }\n",
       "\n",
       "    .dataframe thead th {\n",
       "        text-align: right;\n",
       "    }\n",
       "</style>\n",
       "<table border=\"1\" class=\"dataframe\">\n",
       "  <thead>\n",
       "    <tr style=\"text-align: right;\">\n",
       "      <th></th>\n",
       "      <th>seq</th>\n",
       "      <th>GC_rate</th>\n",
       "      <th>lcc</th>\n",
       "    </tr>\n",
       "  </thead>\n",
       "  <tbody>\n",
       "    <tr>\n",
       "      <td>0</td>\n",
       "      <td>(T, G, C, T, G, T, C, A, C, T, A, A, G, A, T, ...</td>\n",
       "      <td>47.5</td>\n",
       "      <td>1.996387</td>\n",
       "    </tr>\n",
       "    <tr>\n",
       "      <td>1</td>\n",
       "      <td>(T, A, C, C, T, T, C, A, A, A, C, G, A, G, G, ...</td>\n",
       "      <td>45.0</td>\n",
       "      <td>1.935075</td>\n",
       "    </tr>\n",
       "    <tr>\n",
       "      <td>2</td>\n",
       "      <td>(T, A, G, A, G, G, C, A, A, G, A, A, G, C, G, ...</td>\n",
       "      <td>47.5</td>\n",
       "      <td>1.875252</td>\n",
       "    </tr>\n",
       "    <tr>\n",
       "      <td>3</td>\n",
       "      <td>(C, G, A, A, G, G, T, C, A, A, A, T, T, C, G, ...</td>\n",
       "      <td>50.0</td>\n",
       "      <td>1.992774</td>\n",
       "    </tr>\n",
       "    <tr>\n",
       "      <td>4</td>\n",
       "      <td>(G, G, G, C, G, G, T, G, G, A, T, T, C, G, T, ...</td>\n",
       "      <td>57.5</td>\n",
       "      <td>1.908872</td>\n",
       "    </tr>\n",
       "    <tr>\n",
       "      <td>5</td>\n",
       "      <td>(T, G, A, T, A, G, G, C, C, T, C, A, T, C, G, ...</td>\n",
       "      <td>50.0</td>\n",
       "      <td>1.996387</td>\n",
       "    </tr>\n",
       "    <tr>\n",
       "      <td>6</td>\n",
       "      <td>(T, T, A, T, A, G, G, G, C, A, T, A, A, G, A, ...</td>\n",
       "      <td>50.0</td>\n",
       "      <td>1.981863</td>\n",
       "    </tr>\n",
       "    <tr>\n",
       "      <td>7</td>\n",
       "      <td>(T, G, T, T, T, A, G, T, C, C, G, A, G, G, C, ...</td>\n",
       "      <td>45.0</td>\n",
       "      <td>1.952724</td>\n",
       "    </tr>\n",
       "    <tr>\n",
       "      <td>8</td>\n",
       "      <td>(C, C, G, C, G, A, G, C, G, G, G, T, C, G, G, ...</td>\n",
       "      <td>60.0</td>\n",
       "      <td>1.926357</td>\n",
       "    </tr>\n",
       "    <tr>\n",
       "      <td>9</td>\n",
       "      <td>(A, T, C, G, A, G, T, T, C, C, T, T, C, G, G, ...</td>\n",
       "      <td>50.0</td>\n",
       "      <td>1.963421</td>\n",
       "    </tr>\n",
       "    <tr>\n",
       "      <td>10</td>\n",
       "      <td>(A, T, G, A, A, T, C, T, G, G, A, G, C, G, G, ...</td>\n",
       "      <td>45.0</td>\n",
       "      <td>1.926121</td>\n",
       "    </tr>\n",
       "    <tr>\n",
       "      <td>11</td>\n",
       "      <td>(T, A, T, A, G, C, G, C, C, A, T, G, G, A, G, ...</td>\n",
       "      <td>40.0</td>\n",
       "      <td>1.917408</td>\n",
       "    </tr>\n",
       "    <tr>\n",
       "      <td>12</td>\n",
       "      <td>(A, A, T, G, T, C, A, C, C, A, T, G, C, G, G, ...</td>\n",
       "      <td>50.0</td>\n",
       "      <td>1.981863</td>\n",
       "    </tr>\n",
       "    <tr>\n",
       "      <td>13</td>\n",
       "      <td>(A, A, T, T, G, C, A, A, T, G, T, C, G, T, G, ...</td>\n",
       "      <td>50.0</td>\n",
       "      <td>1.985475</td>\n",
       "    </tr>\n",
       "    <tr>\n",
       "      <td>14</td>\n",
       "      <td>(T, G, C, T, C, G, A, G, T, G, G, G, C, T, A, ...</td>\n",
       "      <td>52.5</td>\n",
       "      <td>1.973327</td>\n",
       "    </tr>\n",
       "    <tr>\n",
       "      <td>15</td>\n",
       "      <td>(A, C, C, C, A, T, T, G, T, A, A, G, A, C, C, ...</td>\n",
       "      <td>52.5</td>\n",
       "      <td>1.931291</td>\n",
       "    </tr>\n",
       "    <tr>\n",
       "      <td>16</td>\n",
       "      <td>(T, G, T, C, T, G, T, C, C, G, A, G, C, A, G, ...</td>\n",
       "      <td>50.0</td>\n",
       "      <td>1.992774</td>\n",
       "    </tr>\n",
       "    <tr>\n",
       "      <td>17</td>\n",
       "      <td>(G, C, T, A, G, A, A, G, T, C, T, A, C, C, G, ...</td>\n",
       "      <td>52.5</td>\n",
       "      <td>1.988759</td>\n",
       "    </tr>\n",
       "    <tr>\n",
       "      <td>18</td>\n",
       "      <td>(A, T, A, A, G, A, T, A, T, G, C, A, C, G, A, ...</td>\n",
       "      <td>37.5</td>\n",
       "      <td>1.917408</td>\n",
       "    </tr>\n",
       "    <tr>\n",
       "      <td>19</td>\n",
       "      <td>(A, T, A, C, T, A, G, G, T, G, A, C, T, C, A, ...</td>\n",
       "      <td>35.0</td>\n",
       "      <td>1.922926</td>\n",
       "    </tr>\n",
       "    <tr>\n",
       "      <td>20</td>\n",
       "      <td>(G, G, T, G, C, C, T, A, C, C, C, G, A, T, T, ...</td>\n",
       "      <td>60.0</td>\n",
       "      <td>1.917408</td>\n",
       "    </tr>\n",
       "  </tbody>\n",
       "</table>\n",
       "</div>"
      ],
      "text/plain": [
       "                                                  seq  GC_rate       lcc\n",
       "0   (T, G, C, T, G, T, C, A, C, T, A, A, G, A, T, ...     47.5  1.996387\n",
       "1   (T, A, C, C, T, T, C, A, A, A, C, G, A, G, G, ...     45.0  1.935075\n",
       "2   (T, A, G, A, G, G, C, A, A, G, A, A, G, C, G, ...     47.5  1.875252\n",
       "3   (C, G, A, A, G, G, T, C, A, A, A, T, T, C, G, ...     50.0  1.992774\n",
       "4   (G, G, G, C, G, G, T, G, G, A, T, T, C, G, T, ...     57.5  1.908872\n",
       "5   (T, G, A, T, A, G, G, C, C, T, C, A, T, C, G, ...     50.0  1.996387\n",
       "6   (T, T, A, T, A, G, G, G, C, A, T, A, A, G, A, ...     50.0  1.981863\n",
       "7   (T, G, T, T, T, A, G, T, C, C, G, A, G, G, C, ...     45.0  1.952724\n",
       "8   (C, C, G, C, G, A, G, C, G, G, G, T, C, G, G, ...     60.0  1.926357\n",
       "9   (A, T, C, G, A, G, T, T, C, C, T, T, C, G, G, ...     50.0  1.963421\n",
       "10  (A, T, G, A, A, T, C, T, G, G, A, G, C, G, G, ...     45.0  1.926121\n",
       "11  (T, A, T, A, G, C, G, C, C, A, T, G, G, A, G, ...     40.0  1.917408\n",
       "12  (A, A, T, G, T, C, A, C, C, A, T, G, C, G, G, ...     50.0  1.981863\n",
       "13  (A, A, T, T, G, C, A, A, T, G, T, C, G, T, G, ...     50.0  1.985475\n",
       "14  (T, G, C, T, C, G, A, G, T, G, G, G, C, T, A, ...     52.5  1.973327\n",
       "15  (A, C, C, C, A, T, T, G, T, A, A, G, A, C, C, ...     52.5  1.931291\n",
       "16  (T, G, T, C, T, G, T, C, C, G, A, G, C, A, G, ...     50.0  1.992774\n",
       "17  (G, C, T, A, G, A, A, G, T, C, T, A, C, C, G, ...     52.5  1.988759\n",
       "18  (A, T, A, A, G, A, T, A, T, G, C, A, C, G, A, ...     37.5  1.917408\n",
       "19  (A, T, A, C, T, A, G, G, T, G, A, C, T, C, A, ...     35.0  1.922926\n",
       "20  (G, G, T, G, C, C, T, A, C, C, C, G, A, T, T, ...     60.0  1.917408"
      ]
     },
     "execution_count": 24,
     "metadata": {},
     "output_type": "execute_result"
    }
   ],
   "source": [
    "df"
   ]
  },
  {
   "cell_type": "code",
   "execution_count": null,
   "metadata": {},
   "outputs": [],
   "source": []
  },
  {
   "cell_type": "code",
   "execution_count": null,
   "metadata": {},
   "outputs": [],
   "source": []
  },
  {
   "cell_type": "code",
   "execution_count": null,
   "metadata": {},
   "outputs": [],
   "source": []
  },
  {
   "cell_type": "code",
   "execution_count": null,
   "metadata": {},
   "outputs": [],
   "source": []
  },
  {
   "cell_type": "code",
   "execution_count": null,
   "metadata": {},
   "outputs": [],
   "source": []
  },
  {
   "cell_type": "code",
   "execution_count": null,
   "metadata": {},
   "outputs": [],
   "source": []
  }
 ],
 "metadata": {
  "kernelspec": {
   "display_name": "Python 3",
   "language": "python",
   "name": "python3"
  },
  "language_info": {
   "codemirror_mode": {
    "name": "ipython",
    "version": 3
   },
   "file_extension": ".py",
   "mimetype": "text/x-python",
   "name": "python",
   "nbconvert_exporter": "python",
   "pygments_lexer": "ipython3",
   "version": "3.6.9"
  }
 },
 "nbformat": 4,
 "nbformat_minor": 4
}
