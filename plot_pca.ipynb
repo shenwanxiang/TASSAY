{
 "cells": [
  {
   "cell_type": "code",
   "execution_count": 9,
   "metadata": {},
   "outputs": [],
   "source": [
    "import pandas as pd\n",
    "import networkx as nx\n",
    "import matplotlib.pyplot as plt\n",
    "import matplotlib\n",
    "import seaborn as sns\n",
    "from tqdm import tqdm\n",
    "import random\n",
    "import math\n",
    "from sklearn.decomposition import PCA\n",
    "tqdm.pandas(ascii=True)\n",
    "%matplotlib inline\n",
    "\n"
   ]
  },
  {
   "cell_type": "markdown",
   "metadata": {},
   "source": [
    "# PCA 2D"
   ]
  },
  {
   "cell_type": "code",
   "execution_count": 2,
   "metadata": {},
   "outputs": [
    {
     "data": {
      "text/plain": [
       "Index(['Her 2', 'Her2-GRB2-SHC', 'Her2-SHC', 'Her2-GRB2', 'ER',\n",
       "       'ER-GATA3-FOXA1', 'ER-GATA3', 'ER-FOXA1', 'PR', 'PR-TIF2-SRC-1',\n",
       "       'PR-TIF2', 'PR-SRC-1'],\n",
       "      dtype='object')"
      ]
     },
     "execution_count": 2,
     "metadata": {},
     "output_type": "execute_result"
    }
   ],
   "source": [
    "import seaborn as sns, numpy as np, pandas as pd, random\n",
    "import matplotlib.pyplot as plt\n",
    "from mpl_toolkits.mplot3d import Axes3D\n",
    "sns.set(style='white',\n",
    "    palette='deep',\n",
    "    font='sans-serif',\n",
    "    font_scale=1.6,)\n",
    "\n",
    "\n",
    "df = pd.read_excel('Book3.xlsx', sheet_name='Sheet1')\n",
    "cols = df.columns[2:] \n",
    "\n",
    "\n",
    "\n",
    "c = df.Type.map({'A':'red', 'B':'blue', 'C':'green'})\n",
    "#df.head(3)\n",
    "cols\n",
    "\n"
   ]
  },
  {
   "cell_type": "code",
   "execution_count": 3,
   "metadata": {},
   "outputs": [],
   "source": [
    "cols = [ 'Her 2', 'Her2-GRB2-SHC', 'Her2-SHC', 'Her2-GRB2', 'ER',\n",
    "       'ER-GATA3-FOXA1', 'ER-GATA3', 'ER-FOXA1', 'PR', 'PR-TIF2-SRC-1',\n",
    "       'PR-TIF2', 'PR-SRC-1'\n",
    "      ]"
   ]
  },
  {
   "cell_type": "code",
   "execution_count": 4,
   "metadata": {},
   "outputs": [],
   "source": [
    "pca = PCA(n_components = 2)"
   ]
  },
  {
   "cell_type": "code",
   "execution_count": 5,
   "metadata": {},
   "outputs": [
    {
     "data": {
      "text/html": [
       "<div>\n",
       "<style scoped>\n",
       "    .dataframe tbody tr th:only-of-type {\n",
       "        vertical-align: middle;\n",
       "    }\n",
       "\n",
       "    .dataframe tbody tr th {\n",
       "        vertical-align: top;\n",
       "    }\n",
       "\n",
       "    .dataframe thead th {\n",
       "        text-align: right;\n",
       "    }\n",
       "</style>\n",
       "<table border=\"1\" class=\"dataframe\">\n",
       "  <thead>\n",
       "    <tr style=\"text-align: right;\">\n",
       "      <th></th>\n",
       "      <th>Type</th>\n",
       "      <th>Unnamed: 1</th>\n",
       "      <th>Her 2</th>\n",
       "      <th>Her2-GRB2-SHC</th>\n",
       "      <th>Her2-SHC</th>\n",
       "      <th>Her2-GRB2</th>\n",
       "      <th>ER</th>\n",
       "      <th>ER-GATA3-FOXA1</th>\n",
       "      <th>ER-GATA3</th>\n",
       "      <th>ER-FOXA1</th>\n",
       "      <th>PR</th>\n",
       "      <th>PR-TIF2-SRC-1</th>\n",
       "      <th>PR-TIF2</th>\n",
       "      <th>PR-SRC-1</th>\n",
       "      <th>PC1</th>\n",
       "      <th>PC2</th>\n",
       "    </tr>\n",
       "  </thead>\n",
       "  <tbody>\n",
       "    <tr>\n",
       "      <td>0</td>\n",
       "      <td>A</td>\n",
       "      <td>Patient 1</td>\n",
       "      <td>1.495</td>\n",
       "      <td>3.179</td>\n",
       "      <td>3.871</td>\n",
       "      <td>3.606</td>\n",
       "      <td>1.643</td>\n",
       "      <td>3.591</td>\n",
       "      <td>3.262</td>\n",
       "      <td>2.292</td>\n",
       "      <td>1.217</td>\n",
       "      <td>1.708</td>\n",
       "      <td>2.535</td>\n",
       "      <td>2.332</td>\n",
       "      <td>4.203026</td>\n",
       "      <td>0.718587</td>\n",
       "    </tr>\n",
       "    <tr>\n",
       "      <td>1</td>\n",
       "      <td>A</td>\n",
       "      <td>Patient 2</td>\n",
       "      <td>2.345</td>\n",
       "      <td>0.707</td>\n",
       "      <td>1.577</td>\n",
       "      <td>1.185</td>\n",
       "      <td>1.200</td>\n",
       "      <td>0.709</td>\n",
       "      <td>1.697</td>\n",
       "      <td>1.565</td>\n",
       "      <td>1.463</td>\n",
       "      <td>2.608</td>\n",
       "      <td>1.761</td>\n",
       "      <td>2.732</td>\n",
       "      <td>0.336941</td>\n",
       "      <td>-1.559029</td>\n",
       "    </tr>\n",
       "    <tr>\n",
       "      <td>2</td>\n",
       "      <td>A</td>\n",
       "      <td>Patient 3</td>\n",
       "      <td>1.498</td>\n",
       "      <td>1.411</td>\n",
       "      <td>1.531</td>\n",
       "      <td>1.343</td>\n",
       "      <td>1.287</td>\n",
       "      <td>0.047</td>\n",
       "      <td>1.621</td>\n",
       "      <td>0.626</td>\n",
       "      <td>1.469</td>\n",
       "      <td>1.223</td>\n",
       "      <td>1.518</td>\n",
       "      <td>1.513</td>\n",
       "      <td>-0.906169</td>\n",
       "      <td>0.012112</td>\n",
       "    </tr>\n",
       "  </tbody>\n",
       "</table>\n",
       "</div>"
      ],
      "text/plain": [
       "  Type Unnamed: 1  Her 2  Her2-GRB2-SHC  Her2-SHC  Her2-GRB2     ER  \\\n",
       "0    A  Patient 1  1.495          3.179     3.871      3.606  1.643   \n",
       "1    A  Patient 2  2.345          0.707     1.577      1.185  1.200   \n",
       "2    A  Patient 3  1.498          1.411     1.531      1.343  1.287   \n",
       "\n",
       "   ER-GATA3-FOXA1  ER-GATA3  ER-FOXA1     PR  PR-TIF2-SRC-1  PR-TIF2  \\\n",
       "0           3.591     3.262     2.292  1.217          1.708    2.535   \n",
       "1           0.709     1.697     1.565  1.463          2.608    1.761   \n",
       "2           0.047     1.621     0.626  1.469          1.223    1.518   \n",
       "\n",
       "   PR-SRC-1       PC1       PC2  \n",
       "0     2.332  4.203026  0.718587  \n",
       "1     2.732  0.336941 -1.559029  \n",
       "2     1.513 -0.906169  0.012112  "
      ]
     },
     "execution_count": 5,
     "metadata": {},
     "output_type": "execute_result"
    }
   ],
   "source": [
    "xy = pca.fit_transform(df[cols])\n",
    "xy = pd.DataFrame(xy, columns = ['PC1', 'PC2'])\n",
    "df = df.join(xy)\n",
    "df.head(3)"
   ]
  },
  {
   "cell_type": "code",
   "execution_count": 6,
   "metadata": {},
   "outputs": [
    {
     "data": {
      "image/png": "[encoded data removed]",
      "text/plain": [
       "<Figure size 432x432 with 1 Axes>"
      ]
     },
     "metadata": {},
     "output_type": "display_data"
    }
   ],
   "source": [
    "\n",
    "fig, ax = plt.subplots(figsize=(6,6))\n",
    "\n",
    "#df.plot(x = 'PC1', y = 'PC2', kind = 'scatter', c = c, ax = ax, legend = True)\n",
    "\n",
    "color_dict = {'A':'red', 'B':'blue', 'C':'green'}\n",
    "\n",
    "for k,d in df.groupby('Type'):\n",
    "    ax.scatter(d['PC1'], d['PC2'], label=k, c = color_dict.get(k))\n",
    "plt.legend(loc=1, ncol  = 1)\n",
    "\n",
    "plt.show()"
   ]
  },
  {
   "cell_type": "code",
   "execution_count": 7,
   "metadata": {},
   "outputs": [],
   "source": [
    "df.to_excel('./PCA.xlsx')"
   ]
  },
  {
   "cell_type": "code",
   "execution_count": 8,
   "metadata": {},
   "outputs": [
    {
     "data": {
      "text/plain": [
       "array([0.584, 0.213])"
      ]
     },
     "execution_count": 8,
     "metadata": {},
     "output_type": "execute_result"
    }
   ],
   "source": [
    "pca.explained_variance_ratio_.round(3)"
   ]
  },
  {
   "cell_type": "markdown",
   "metadata": {},
   "source": [
    "## 3D"
   ]
  },
  {
   "cell_type": "code",
   "execution_count": 3,
   "metadata": {},
   "outputs": [],
   "source": [
    "import plotly.express as px\n",
    "\n",
    "\n",
    "\n",
    "df = pd.read_excel('Book3.xlsx', sheet_name='Sheet1')\n",
    "cols = df.columns[-3:] \n",
    "\n",
    "fig = px.scatter_3d(df, x=cols[0], y=cols[1], z=cols[2],\n",
    "              color='Type')\n",
    "fig.write_html('./3d.html')"
   ]
  },
  {
   "cell_type": "code",
   "execution_count": null,
   "metadata": {},
   "outputs": [],
   "source": []
  },
  {
   "cell_type": "code",
   "execution_count": null,
   "metadata": {},
   "outputs": [],
   "source": []
  },
  {
   "cell_type": "markdown",
   "metadata": {},
   "source": [
    "# LDA"
   ]
  },
  {
   "cell_type": "code",
   "execution_count": 10,
   "metadata": {},
   "outputs": [
    {
     "data": {
      "image/png": "[encoded data removed]",
      "text/plain": [
       "<Figure size 432x432 with 1 Axes>"
      ]
     },
     "metadata": {
      "needs_background": "light"
     },
     "output_type": "display_data"
    }
   ],
   "source": [
    "from sklearn.discriminant_analysis import LinearDiscriminantAnalysis #导入LDA算法\n",
    "\n",
    "\n",
    "df = pd.read_excel('Book3.xlsx', sheet_name='Sheet1')\n",
    "cols = df.columns[2:] \n",
    "X = df[cols]\n",
    "y = df.Type\n",
    "\n",
    "lda = LinearDiscriminantAnalysis(n_components=2)\n",
    "lda.fit(X,y)\n",
    "xy = lda.transform(X)\n",
    "xy = pd.DataFrame(xy, columns = ['PC1', 'PC2'])\n",
    "df = df.join(xy)\n",
    "fig, ax = plt.subplots(figsize=(6,6))\n",
    "\n",
    "#df.plot(x = 'PC1', y = 'PC2', kind = 'scatter', c = c, ax = ax, legend = True)\n",
    "\n",
    "color_dict = {'A':'red', 'B':'blue', 'C':'green'}\n",
    "\n",
    "for k,d in df.groupby('Type'):\n",
    "    ax.scatter(d['PC1'], d['PC2'], label=k, c = color_dict.get(k))\n",
    "plt.legend(loc=1, ncol  = 1)\n",
    "\n",
    "plt.show()\n"
   ]
  },
  {
   "cell_type": "markdown",
   "metadata": {},
   "source": []
  },
  {
   "cell_type": "code",
   "execution_count": 11,
   "metadata": {},
   "outputs": [
    {
     "data": {
      "text/plain": [
       "array([0.57767723, 0.42232277])"
      ]
     },
     "execution_count": 11,
     "metadata": {},
     "output_type": "execute_result"
    }
   ],
   "source": [
    "lda.explained_variance_ratio_"
   ]
  },
  {
   "cell_type": "code",
   "execution_count": null,
   "metadata": {},
   "outputs": [],
   "source": []
  }
 ],
 "metadata": {
  "kernelspec": {
   "display_name": "Python 3",
   "language": "python",
   "name": "python3"
  },
  "language_info": {
   "codemirror_mode": {
    "name": "ipython",
    "version": 3
   },
   "file_extension": ".py",
   "mimetype": "text/x-python",
   "name": "python",
   "nbconvert_exporter": "python",
   "pygments_lexer": "ipython3",
   "version": "3.7.0"
  }
 },
 "nbformat": 4,
 "nbformat_minor": 4
}
