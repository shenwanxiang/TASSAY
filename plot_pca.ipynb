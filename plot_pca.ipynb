{
 "cells": [
  {
   "cell_type": "code",
   "execution_count": 59,
   "metadata": {},
   "outputs": [],
   "source": [
    "import pandas as pd\n",
    "import networkx as nx\n",
    "import matplotlib.pyplot as plt\n",
    "import matplotlib\n",
    "import seaborn as sns\n",
    "from tqdm import tqdm\n",
    "import random\n",
    "import math\n",
    "from sklearn.decomposition import PCA\n",
    "tqdm.pandas(ascii=True)\n",
    "%matplotlib inline\n",
    "\n"
   ]
  },
  {
   "cell_type": "markdown",
   "metadata": {},
   "source": [
    "# PCA 2D"
   ]
  },
  {
   "cell_type": "code",
   "execution_count": 60,
   "metadata": {},
   "outputs": [
    {
     "data": {
      "text/plain": [
       "Index(['Her 2', 'Her2-GRB2-SHC', 'Her2-SHC', 'Her2-GRB2', 'ER',\n",
       "       'ER-GATA3-FOXA1', 'ER-GATA3', 'ER-FOXA1', 'PR', 'PR-TIF2-SRC-1',\n",
       "       'PR-TIF2', 'PR-SRC-1', 'SCRIB', 'SCRIB-VANGL1-NOS1AP', 'SCRIB-VANGL1',\n",
       "       'SCRIB-NOS1AP', 'WASF3', 'WASF3-CYFIP1-NCKAP1', 'WASF3-CYFIP1',\n",
       "       'WASF3-NCKAP1'],\n",
       "      dtype='object')"
      ]
     },
     "execution_count": 60,
     "metadata": {},
     "output_type": "execute_result"
    }
   ],
   "source": [
    "import seaborn as sns, numpy as np, pandas as pd, random\n",
    "import matplotlib.pyplot as plt\n",
    "from mpl_toolkits.mplot3d import Axes3D\n",
    "sns.set(style='white',\n",
    "    palette='deep',\n",
    "    font='sans-serif',\n",
    "    font_scale=1.6,)\n",
    "\n",
    "\n",
    "df = pd.read_excel('Book3.xlsx', sheet_name='Sheet1')\n",
    "cols = df.columns[2:] \n",
    "\n",
    "\n",
    "\n",
    "c = df.Type.map({'3':'red', '2':'blue'})\n",
    "#df.head(3)\n",
    "cols\n",
    "\n"
   ]
  },
  {
   "cell_type": "code",
   "execution_count": 61,
   "metadata": {},
   "outputs": [],
   "source": [
    "cols = [ 'Her 2', 'ER', 'PR',  'SCRIB',  'WASF3'\n",
    "       \n",
    " ]"
   ]
  },
  {
   "cell_type": "code",
   "execution_count": 62,
   "metadata": {},
   "outputs": [],
   "source": [
    "pca = PCA(n_components = 2)"
   ]
  },
  {
   "cell_type": "code",
   "execution_count": 63,
   "metadata": {},
   "outputs": [
    {
     "data": {
      "text/html": [
       "<div>\n",
       "<style scoped>\n",
       "    .dataframe tbody tr th:only-of-type {\n",
       "        vertical-align: middle;\n",
       "    }\n",
       "\n",
       "    .dataframe tbody tr th {\n",
       "        vertical-align: top;\n",
       "    }\n",
       "\n",
       "    .dataframe thead th {\n",
       "        text-align: right;\n",
       "    }\n",
       "</style>\n",
       "<table border=\"1\" class=\"dataframe\">\n",
       "  <thead>\n",
       "    <tr style=\"text-align: right;\">\n",
       "      <th></th>\n",
       "      <th>Type</th>\n",
       "      <th>Unnamed: 1</th>\n",
       "      <th>Her 2</th>\n",
       "      <th>Her2-GRB2-SHC</th>\n",
       "      <th>Her2-SHC</th>\n",
       "      <th>Her2-GRB2</th>\n",
       "      <th>ER</th>\n",
       "      <th>ER-GATA3-FOXA1</th>\n",
       "      <th>ER-GATA3</th>\n",
       "      <th>ER-FOXA1</th>\n",
       "      <th>...</th>\n",
       "      <th>SCRIB</th>\n",
       "      <th>SCRIB-VANGL1-NOS1AP</th>\n",
       "      <th>SCRIB-VANGL1</th>\n",
       "      <th>SCRIB-NOS1AP</th>\n",
       "      <th>WASF3</th>\n",
       "      <th>WASF3-CYFIP1-NCKAP1</th>\n",
       "      <th>WASF3-CYFIP1</th>\n",
       "      <th>WASF3-NCKAP1</th>\n",
       "      <th>PC1</th>\n",
       "      <th>PC2</th>\n",
       "    </tr>\n",
       "  </thead>\n",
       "  <tbody>\n",
       "    <tr>\n",
       "      <td>0</td>\n",
       "      <td>3</td>\n",
       "      <td>Patient 1</td>\n",
       "      <td>1.495</td>\n",
       "      <td>3.179</td>\n",
       "      <td>3.871</td>\n",
       "      <td>3.606</td>\n",
       "      <td>1.643</td>\n",
       "      <td>3.591</td>\n",
       "      <td>3.262</td>\n",
       "      <td>2.292</td>\n",
       "      <td>...</td>\n",
       "      <td>1.246</td>\n",
       "      <td>1.692</td>\n",
       "      <td>2.642</td>\n",
       "      <td>3.192</td>\n",
       "      <td>1.056</td>\n",
       "      <td>2.759</td>\n",
       "      <td>2.433</td>\n",
       "      <td>2.397</td>\n",
       "      <td>-2.188727</td>\n",
       "      <td>-0.336920</td>\n",
       "    </tr>\n",
       "    <tr>\n",
       "      <td>1</td>\n",
       "      <td>3</td>\n",
       "      <td>Patient 7</td>\n",
       "      <td>2.972</td>\n",
       "      <td>3.665</td>\n",
       "      <td>2.380</td>\n",
       "      <td>2.545</td>\n",
       "      <td>4.752</td>\n",
       "      <td>1.955</td>\n",
       "      <td>3.754</td>\n",
       "      <td>2.025</td>\n",
       "      <td>...</td>\n",
       "      <td>4.890</td>\n",
       "      <td>4.158</td>\n",
       "      <td>2.078</td>\n",
       "      <td>3.339</td>\n",
       "      <td>2.727</td>\n",
       "      <td>3.554</td>\n",
       "      <td>1.173</td>\n",
       "      <td>1.512</td>\n",
       "      <td>1.482470</td>\n",
       "      <td>2.987424</td>\n",
       "    </tr>\n",
       "    <tr>\n",
       "      <td>2</td>\n",
       "      <td>3</td>\n",
       "      <td>Patient 8</td>\n",
       "      <td>2.551</td>\n",
       "      <td>5.857</td>\n",
       "      <td>5.645</td>\n",
       "      <td>3.169</td>\n",
       "      <td>1.736</td>\n",
       "      <td>4.331</td>\n",
       "      <td>3.854</td>\n",
       "      <td>1.053</td>\n",
       "      <td>...</td>\n",
       "      <td>1.784</td>\n",
       "      <td>3.451</td>\n",
       "      <td>3.723</td>\n",
       "      <td>3.819</td>\n",
       "      <td>0.879</td>\n",
       "      <td>2.965</td>\n",
       "      <td>4.857</td>\n",
       "      <td>3.961</td>\n",
       "      <td>-1.711961</td>\n",
       "      <td>0.530197</td>\n",
       "    </tr>\n",
       "  </tbody>\n",
       "</table>\n",
       "<p>3 rows × 24 columns</p>\n",
       "</div>"
      ],
      "text/plain": [
       "   Type Unnamed: 1  Her 2  Her2-GRB2-SHC  Her2-SHC  Her2-GRB2     ER  \\\n",
       "0     3  Patient 1  1.495          3.179     3.871      3.606  1.643   \n",
       "1     3  Patient 7  2.972          3.665     2.380      2.545  4.752   \n",
       "2     3  Patient 8  2.551          5.857     5.645      3.169  1.736   \n",
       "\n",
       "   ER-GATA3-FOXA1  ER-GATA3  ER-FOXA1  ...  SCRIB  SCRIB-VANGL1-NOS1AP  \\\n",
       "0           3.591     3.262     2.292  ...  1.246                1.692   \n",
       "1           1.955     3.754     2.025  ...  4.890                4.158   \n",
       "2           4.331     3.854     1.053  ...  1.784                3.451   \n",
       "\n",
       "   SCRIB-VANGL1  SCRIB-NOS1AP  WASF3  WASF3-CYFIP1-NCKAP1  WASF3-CYFIP1  \\\n",
       "0         2.642         3.192  1.056                2.759         2.433   \n",
       "1         2.078         3.339  2.727                3.554         1.173   \n",
       "2         3.723         3.819  0.879                2.965         4.857   \n",
       "\n",
       "   WASF3-NCKAP1       PC1       PC2  \n",
       "0         2.397 -2.188727 -0.336920  \n",
       "1         1.512  1.482470  2.987424  \n",
       "2         3.961 -1.711961  0.530197  \n",
       "\n",
       "[3 rows x 24 columns]"
      ]
     },
     "execution_count": 63,
     "metadata": {},
     "output_type": "execute_result"
    }
   ],
   "source": [
    "xy = pca.fit_transform(df[cols])\n",
    "xy = pd.DataFrame(xy, columns = ['PC1', 'PC2'])\n",
    "df = df.join(xy)\n",
    "df.head(3)"
   ]
  },
  {
   "cell_type": "code",
   "execution_count": 64,
   "metadata": {},
   "outputs": [
    {
     "data": {
      "image/png": "[encoded data removed]",
      "text/plain": [
       "<Figure size 432x432 with 1 Axes>"
      ]
     },
     "metadata": {},
     "output_type": "display_data"
    }
   ],
   "source": [
    "\n",
    "fig, ax = plt.subplots(figsize=(6,6))\n",
    "\n",
    "#df.plot(x = 'PC1', y = 'PC2', kind = 'scatter', c = c, ax = ax, legend = True)\n",
    "\n",
    "color_dict = {'3':'red', '2':'blue'}\n",
    "\n",
    "for k,d in df.groupby('Type'):\n",
    "    ax.scatter(d['PC1'], d['PC2'], label=k, c = color_dict.get(k))\n",
    "plt.legend(loc=1, ncol  = 1)\n",
    "\n",
    "plt.show()"
   ]
  },
  {
   "cell_type": "code",
   "execution_count": 65,
   "metadata": {},
   "outputs": [],
   "source": [
    "df.to_excel('./PCA.xlsx')"
   ]
  },
  {
   "cell_type": "code",
   "execution_count": 66,
   "metadata": {},
   "outputs": [
    {
     "data": {
      "text/plain": [
       "array([0.694, 0.174])"
      ]
     },
     "execution_count": 66,
     "metadata": {},
     "output_type": "execute_result"
    }
   ],
   "source": [
    "pca.explained_variance_ratio_.round(3)"
   ]
  },
  {
   "cell_type": "markdown",
   "metadata": {},
   "source": [
    "## 3D"
   ]
  },
  {
   "cell_type": "code",
   "execution_count": 3,
   "metadata": {},
   "outputs": [],
   "source": [
    "import plotly.express as px\n",
    "\n",
    "\n",
    "\n",
    "df = pd.read_excel('Book3.xlsx', sheet_name='Sheet1')\n",
    "cols = df.columns[-3:] \n",
    "\n",
    "fig = px.scatter_3d(df, x=cols[0], y=cols[1], z=cols[2],\n",
    "              color='Type')\n",
    "fig.write_html('./3d.html')"
   ]
  },
  {
   "cell_type": "code",
   "execution_count": null,
   "metadata": {},
   "outputs": [],
   "source": []
  },
  {
   "cell_type": "code",
   "execution_count": null,
   "metadata": {},
   "outputs": [],
   "source": []
  },
  {
   "cell_type": "markdown",
   "metadata": {},
   "source": [
    "# LDA"
   ]
  },
  {
   "cell_type": "code",
   "execution_count": 10,
   "metadata": {},
   "outputs": [
    {
     "data": {
      "image/png": "[encoded data removed]",
      "text/plain": [
       "<Figure size 432x432 with 1 Axes>"
      ]
     },
     "metadata": {
      "needs_background": "light"
     },
     "output_type": "display_data"
    }
   ],
   "source": [
    "from sklearn.discriminant_analysis import LinearDiscriminantAnalysis #导入LDA算法\n",
    "\n",
    "\n",
    "df = pd.read_excel('Book3.xlsx', sheet_name='Sheet1')\n",
    "cols = df.columns[2:] \n",
    "X = df[cols]\n",
    "y = df.Type\n",
    "\n",
    "lda = LinearDiscriminantAnalysis(n_components=2)\n",
    "lda.fit(X,y)\n",
    "xy = lda.transform(X)\n",
    "xy = pd.DataFrame(xy, columns = ['PC1', 'PC2'])\n",
    "df = df.join(xy)\n",
    "fig, ax = plt.subplots(figsize=(6,6))\n",
    "\n",
    "#df.plot(x = 'PC1', y = 'PC2', kind = 'scatter', c = c, ax = ax, legend = True)\n",
    "\n",
    "color_dict = {'A':'red', 'B':'blue', 'C':'green'}\n",
    "\n",
    "for k,d in df.groupby('Type'):\n",
    "    ax.scatter(d['PC1'], d['PC2'], label=k, c = color_dict.get(k))\n",
    "plt.legend(loc=1, ncol  = 1)\n",
    "\n",
    "plt.show()\n"
   ]
  },
  {
   "cell_type": "markdown",
   "metadata": {},
   "source": []
  },
  {
   "cell_type": "code",
   "execution_count": 11,
   "metadata": {},
   "outputs": [
    {
     "data": {
      "text/plain": [
       "array([0.57767723, 0.42232277])"
      ]
     },
     "execution_count": 11,
     "metadata": {},
     "output_type": "execute_result"
    }
   ],
   "source": [
    "lda.explained_variance_ratio_"
   ]
  },
  {
   "cell_type": "code",
   "execution_count": null,
   "metadata": {},
   "outputs": [],
   "source": []
  }
 ],
 "metadata": {
  "kernelspec": {
   "display_name": "Python 3",
   "language": "python",
   "name": "python3"
  },
  "language_info": {
   "codemirror_mode": {
    "name": "ipython",
    "version": 3
   },
   "file_extension": ".py",
   "mimetype": "text/x-python",
   "name": "python",
   "nbconvert_exporter": "python",
   "pygments_lexer": "ipython3",
   "version": "3.6.10"
  }
 },
 "nbformat": 4,
 "nbformat_minor": 4
}
